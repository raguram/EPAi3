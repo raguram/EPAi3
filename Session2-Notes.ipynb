{
 "cells": [
  {
   "cell_type": "markdown",
   "source": "# Object Mutability &amp; Interning",
   "metadata": {
    "tags": [],
    "cell_id": "00000-b39967b9-389d-4a5a-8b39-17740175f4af",
    "deepnote_cell_type": "text-cell-h1"
   }
  },
  {
   "cell_type": "markdown",
   "source": "## Variables are memory reference",
   "metadata": {
    "tags": [],
    "cell_id": "00000-db6b6f47-cb94-4cd1-8269-54eee3417951",
    "deepnote_cell_type": "markdown"
   }
  },
  {
   "cell_type": "code",
   "metadata": {
    "tags": [],
    "cell_id": "00001-a92b96c2-8b73-43ef-9d1b-9bfda3915074",
    "deepnote_to_be_reexecuted": false,
    "source_hash": "7a3ca6ad",
    "execution_start": 1620451073042,
    "execution_millis": 7,
    "deepnote_cell_type": "code"
   },
   "source": "my_var = 10\nprint(f'my_var = {my_var}')\nprint(f'my_var = {id(my_var)}')\nprint(f'my_var = {hex(id(my_var))}')",
   "execution_count": 4,
   "outputs": [
    {
     "name": "stdout",
     "text": "my_var = 10\nmy_var = 140350257948000\nmy_var = 0x7fa5d744e560\n",
     "output_type": "stream"
    }
   ]
  },
  {
   "cell_type": "markdown",
   "source": "",
   "metadata": {
    "tags": [],
    "cell_id": "00002-3e8d158a-4e62-47f1-9c58-1c96aa81bf3e",
    "deepnote_cell_type": "markdown"
   }
  },
  {
   "cell_type": "code",
   "source": "my_var = 'Hello'\nprint(f'my_var = {my_var}')\nprint(f'my_var = {id(my_var)}')\nprint(f'my_var = {hex(id(my_var))}')",
   "metadata": {
    "tags": [],
    "cell_id": "00004-ba3e52bd-2c56-49f2-a46f-0d1e59d3a79d",
    "deepnote_to_be_reexecuted": false,
    "source_hash": "b80b6f17",
    "execution_start": 1620451107331,
    "execution_millis": 6,
    "deepnote_cell_type": "code"
   },
   "outputs": [
    {
     "name": "stdout",
     "text": "my_var = Hello\nmy_var = 140349363405232\nmy_var = 0x7fa5a1f341b0\n",
     "output_type": "stream"
    }
   ],
   "execution_count": 5
  },
  {
   "cell_type": "markdown",
   "source": "### Intern",
   "metadata": {
    "tags": [],
    "cell_id": "00005-09bd156a-3071-4204-b0cc-5ec03e46fd22",
    "deepnote_cell_type": "markdown"
   }
  },
  {
   "cell_type": "code",
   "source": "my_var = 10\nprint(f'my_var = {my_var}')\nprint(f'my_var = {id(my_var)}')\nprint(f'my_var = {hex(id(my_var))}')",
   "metadata": {
    "tags": [],
    "cell_id": "00005-760e0e49-963f-4524-ae41-017193e68822",
    "deepnote_to_be_reexecuted": false,
    "source_hash": "7a3ca6ad",
    "execution_start": 1620451158654,
    "execution_millis": 3,
    "deepnote_cell_type": "code"
   },
   "outputs": [
    {
     "name": "stdout",
     "text": "my_var = 10\nmy_var = 140350257948000\nmy_var = 0x7fa5d744e560\n",
     "output_type": "stream"
    }
   ],
   "execution_count": 6
  },
  {
   "cell_type": "markdown",
   "source": "## Reference Counting\nThis is something usable for identifying memory leaks. ",
   "metadata": {
    "tags": [],
    "cell_id": "00007-9aba8ca5-de4c-4396-94d4-3e8dc24b029e",
    "deepnote_cell_type": "markdown"
   }
  },
  {
   "cell_type": "code",
   "source": "import ctypes \n\ndef ref_count(address): \n    return ctypes.c_long.from_address(address).value\n\ndef object_by_id(objectid): \n    for obj in gc.get_objects(): \n        if id(obj) == objectid: \n            return \"Object exists\"\n    return \"Not found\"",
   "metadata": {
    "tags": [],
    "cell_id": "00007-852aaf3a-6ba8-4e6c-ac83-539391585779",
    "deepnote_to_be_reexecuted": false,
    "source_hash": "90880c",
    "execution_start": 1620451955850,
    "execution_millis": 1,
    "deepnote_cell_type": "code"
   },
   "outputs": [],
   "execution_count": 13
  },
  {
   "cell_type": "code",
   "source": "my_var = [1,2,3,4]\nref_count(id(my_var))",
   "metadata": {
    "tags": [],
    "cell_id": "00009-0ffff362-63b4-425b-bc2d-15eeaabaa0a3",
    "deepnote_to_be_reexecuted": false,
    "source_hash": "3517efa7",
    "execution_start": 1620451413657,
    "execution_millis": 7,
    "deepnote_cell_type": "code"
   },
   "outputs": [
    {
     "output_type": "execute_result",
     "execution_count": 10,
     "data": {
      "text/plain": "1"
     },
     "metadata": {}
    }
   ],
   "execution_count": 10
  },
  {
   "cell_type": "code",
   "source": "import sys\nmy_var = 10\nsys.getrefcount(my_var)",
   "metadata": {
    "tags": [],
    "cell_id": "00010-0a19a9dc-be5e-4811-9526-6bb08038d31a",
    "deepnote_to_be_reexecuted": false,
    "source_hash": "ee22b472",
    "execution_start": 1620451433450,
    "execution_millis": 11,
    "deepnote_cell_type": "code"
   },
   "outputs": [
    {
     "output_type": "execute_result",
     "execution_count": 11,
     "data": {
      "text/plain": "11"
     },
     "metadata": {}
    }
   ],
   "execution_count": 11
  },
  {
   "cell_type": "code",
   "source": "address = None\naddress_2 = None\nprint(id(address))\nprint(id(address_2))",
   "metadata": {
    "tags": [],
    "cell_id": "00011-48d0e99a-5d6e-420f-a5ab-132e0b9a3b1e",
    "deepnote_to_be_reexecuted": false,
    "source_hash": "2a8f4c4f",
    "execution_start": 1620452061016,
    "execution_millis": 7,
    "deepnote_cell_type": "code"
   },
   "outputs": [
    {
     "name": "stdout",
     "text": "140350257620720\n140350257620720\n",
     "output_type": "stream"
    }
   ],
   "execution_count": 18
  },
  {
   "cell_type": "markdown",
   "source": "## Cyclic Reference",
   "metadata": {
    "tags": [],
    "cell_id": "00012-bf09ec7a-0ade-40b4-9df2-a09d617fe4c5",
    "deepnote_cell_type": "markdown"
   }
  },
  {
   "cell_type": "code",
   "source": "class A: \n    def __init__(self): \n        self.b = B(self)\n        print(f'A: self: {hex(id(self))}, b: {hex(id(self.b))}')\n\n\nclass B: \n    def __init__(self, a): \n        self.a = a \n        print(f'B: self: {hex(id(self))}, a: {hex(id(self.a))}')",
   "metadata": {
    "tags": [],
    "cell_id": "00012-416c4e38-4dcc-4cb6-9612-4c2873e3c3f5",
    "deepnote_to_be_reexecuted": false,
    "source_hash": "5977fce7",
    "execution_start": 1620452438809,
    "execution_millis": 2,
    "deepnote_cell_type": "code"
   },
   "outputs": [],
   "execution_count": 26
  },
  {
   "cell_type": "code",
   "source": "import gc\ngc.disable()",
   "metadata": {
    "tags": [],
    "cell_id": "00014-e5753ce5-073e-4cbe-b82a-5270738fb16a",
    "deepnote_to_be_reexecuted": false,
    "source_hash": "5cb45f37",
    "execution_start": 1620452410999,
    "execution_millis": 4,
    "deepnote_cell_type": "code"
   },
   "outputs": [],
   "execution_count": 24
  },
  {
   "cell_type": "code",
   "source": "my_var = A()",
   "metadata": {
    "tags": [],
    "cell_id": "00015-57476351-6ed8-4a3e-af46-999382de8c05",
    "deepnote_to_be_reexecuted": false,
    "source_hash": "5e687bda",
    "execution_start": 1620452440228,
    "execution_millis": 6,
    "deepnote_cell_type": "code"
   },
   "outputs": [
    {
     "name": "stdout",
     "text": "B: self: 0x7fa5a178c3d0, a: 0x7fa5a178c590\nA: self: 0x7fa5a178c590, b: 0x7fa5a178c3d0\n",
     "output_type": "stream"
    }
   ],
   "execution_count": 27
  },
  {
   "cell_type": "code",
   "source": "print(f'a: \\t{hex(id(my_var))}')\nprint(f'a.b: \\t{hex(id(my_var.b))}')\nprint(f'a.b.a: \\t{hex(id(my_var.b.a))}')",
   "metadata": {
    "tags": [],
    "cell_id": "00016-c048edb8-cdd3-46b1-ba0b-a2f599a71b61",
    "deepnote_to_be_reexecuted": false,
    "source_hash": "754f1cc",
    "execution_start": 1620452561212,
    "execution_millis": 8,
    "deepnote_cell_type": "code"
   },
   "outputs": [
    {
     "name": "stdout",
     "text": "a: \t0x7fa5a178c590\na.b: \t0x7fa5a178c3d0\na.b.a: \t0x7fa5a178c590\n",
     "output_type": "stream"
    }
   ],
   "execution_count": 28
  },
  {
   "cell_type": "code",
   "source": "a_id = id(my_var)\nb_id = id(my_var.b)",
   "metadata": {
    "tags": [],
    "cell_id": "00017-d477c455-4139-4bb5-92a5-fd2944798ac2",
    "deepnote_to_be_reexecuted": false,
    "source_hash": "5292e118",
    "execution_start": 1620452680272,
    "execution_millis": 3,
    "deepnote_cell_type": "code"
   },
   "outputs": [],
   "execution_count": 29
  },
  {
   "cell_type": "code",
   "source": "my_var = A()\na_id = id(my_var)\nb_id = id(my_var.b)\n\nprint(f'a: \\t{hex(id(my_var))}')\nprint(f'a.b: \\t{hex(id(my_var.b))}')\nprint(f'a.b.a: \\t{hex(id(my_var.b.a))}')\nprint(f'refcount(a) = {ref_count(a_id)}')\nprint(f'refcount(b) = {ref_count(b_id)}')\nprint(f'Object by id: {object_by_id(a_id)}')\n\nmy_var = None\n\nprint(f'refcount(a) = {ref_count(a_id)}')\nprint(f'refcount(b) = {ref_count(b_id)}')\nprint(f'Object by id: {object_by_id(a_id)}')\n\ngc.collect()\n\nprint(f'refcount(a) = {ref_count(a_id)}')\nprint(f'refcount(b) = {ref_count(b_id)}')\nprint(f'Object by id: {object_by_id(a_id)}')",
   "metadata": {
    "tags": [],
    "cell_id": "00018-2af4a05d-0af0-4113-ace4-1d2e5fb5e6ee",
    "deepnote_to_be_reexecuted": false,
    "source_hash": "43664072",
    "execution_start": 1620452908998,
    "execution_millis": 156,
    "deepnote_cell_type": "code"
   },
   "outputs": [
    {
     "name": "stdout",
     "text": "B: self: 0x7fa5a14244d0, a: 0x7fa5a1424490\nA: self: 0x7fa5a1424490, b: 0x7fa5a14244d0\na: \t0x7fa5a1424490\na.b: \t0x7fa5a14244d0\na.b.a: \t0x7fa5a1424490\nrefcount(a) = 2\nrefcount(b) = 1\nObject by id: Object exists\nrefcount(a) = 1\nrefcount(b) = 1\nObject by id: Object exists\nrefcount(a) = 0\nrefcount(b) = 0\nObject by id: Not found\n",
     "output_type": "stream"
    }
   ],
   "execution_count": 34
  },
  {
   "cell_type": "markdown",
   "source": "## Dynamic Typing\nType of variable is type of memory address it is pointing to. ",
   "metadata": {
    "tags": [],
    "cell_id": "00019-197f4edf-e281-4bfc-97be-4ea28819ead6",
    "deepnote_cell_type": "markdown"
   }
  },
  {
   "cell_type": "code",
   "source": "a = 'hello'\nprint(type(a))\n\na = 10\nprint(type(a))",
   "metadata": {
    "tags": [],
    "cell_id": "00019-f00566e2-f350-4d7c-bc01-f01001b18222",
    "deepnote_to_be_reexecuted": false,
    "source_hash": "b22cfbdf",
    "execution_start": 1620453021541,
    "execution_millis": 6,
    "deepnote_cell_type": "code"
   },
   "outputs": [
    {
     "name": "stdout",
     "text": "<class 'str'>\n<class 'int'>\n",
     "output_type": "stream"
    }
   ],
   "execution_count": 36
  },
  {
   "cell_type": "code",
   "source": "a = lambda x : x**2 \ntype(a)\na(4)",
   "metadata": {
    "tags": [],
    "cell_id": "00021-4901aed8-3c96-4732-8544-d6e891518711",
    "deepnote_to_be_reexecuted": false,
    "source_hash": "691bb4d4",
    "execution_start": 1620453064023,
    "execution_millis": 10,
    "deepnote_cell_type": "code"
   },
   "outputs": [
    {
     "output_type": "execute_result",
     "execution_count": 38,
     "data": {
      "text/plain": "16"
     },
     "metadata": {}
    }
   ],
   "execution_count": 38
  },
  {
   "cell_type": "markdown",
   "source": "## Object Mutability",
   "metadata": {
    "tags": [],
    "cell_id": "00022-2e389354-db4d-4ec9-b6fd-2c93d7206720",
    "deepnote_cell_type": "markdown"
   }
  },
  {
   "cell_type": "code",
   "source": "my_list = [1, 2, 3]\nprint(my_list)\nprint(hex(id(my_list)))",
   "metadata": {
    "tags": [],
    "cell_id": "00023-509c5887-61ba-45d8-9d3d-2ef51f7c3b7f",
    "deepnote_to_be_reexecuted": false,
    "source_hash": "c951d46b",
    "execution_start": 1620453587678,
    "execution_millis": 6,
    "deepnote_cell_type": "code"
   },
   "outputs": [
    {
     "name": "stdout",
     "text": "[1, 2, 3]\n0x7fa5a13ceaf0\n",
     "output_type": "stream"
    }
   ],
   "execution_count": 51
  },
  {
   "cell_type": "code",
   "source": "my_list.append(4)\nprint(my_list)\nprint(hex(id(my_list)))",
   "metadata": {
    "tags": [],
    "cell_id": "00024-b1fef15c-1af5-47ab-8767-9e410f591d80",
    "deepnote_to_be_reexecuted": false,
    "source_hash": "5570d839",
    "execution_start": 1620453589433,
    "execution_millis": 9,
    "deepnote_cell_type": "code"
   },
   "outputs": [
    {
     "name": "stdout",
     "text": "[1, 2, 3, 4]\n0x7fa5a13ceaf0\n",
     "output_type": "stream"
    }
   ],
   "execution_count": 52
  },
  {
   "cell_type": "code",
   "source": "my_list = my_list + [5]\nprint(my_list)\nprint(hex(id(my_list)))",
   "metadata": {
    "tags": [],
    "cell_id": "00025-a9731daf-25f9-4805-9d9a-7a7b87dc15de",
    "deepnote_to_be_reexecuted": false,
    "source_hash": "7668407b",
    "execution_start": 1620453592288,
    "execution_millis": 6,
    "deepnote_cell_type": "code"
   },
   "outputs": [
    {
     "name": "stdout",
     "text": "[1, 2, 3, 4, 5]\n0x7fa5a151c370\n",
     "output_type": "stream"
    }
   ],
   "execution_count": 53
  },
  {
   "cell_type": "code",
   "source": "my_dict = dict(key1 = \"value 1\")\nmy_dict, hex((id(my_dict)))",
   "metadata": {
    "tags": [],
    "cell_id": "00026-6ce11409-c595-4692-8ce1-9574cd43cd1d",
    "deepnote_to_be_reexecuted": false,
    "source_hash": "e4ad4dc3",
    "execution_start": 1620453653571,
    "execution_millis": 6,
    "deepnote_cell_type": "code"
   },
   "outputs": [
    {
     "output_type": "execute_result",
     "execution_count": 54,
     "data": {
      "text/plain": "({'key1': 'value 1'}, '0x7fa5a1279820')"
     },
     "metadata": {}
    }
   ],
   "execution_count": 54
  },
  {
   "cell_type": "code",
   "source": "my_dict = dict(key1 = \"value 1\")\nmy_dict, hex((id(my_dict)))",
   "metadata": {
    "tags": [],
    "cell_id": "00027-621552e2-5109-43f8-821c-99a855e53c30",
    "deepnote_cell_type": "code"
   },
   "outputs": [],
   "execution_count": null
  },
  {
   "cell_type": "code",
   "source": "t = 1, 2, 3 \ntype(t)",
   "metadata": {
    "tags": [],
    "cell_id": "00028-de1cb78c-82a1-4509-b1a6-53158e5091e9",
    "deepnote_to_be_reexecuted": false,
    "source_hash": "4c43e966",
    "execution_start": 1620454086097,
    "execution_millis": 7,
    "deepnote_cell_type": "code"
   },
   "outputs": [
    {
     "output_type": "execute_result",
     "execution_count": 55,
     "data": {
      "text/plain": "tuple"
     },
     "metadata": {}
    }
   ],
   "execution_count": 55
  },
  {
   "cell_type": "code",
   "source": "a = [1, 2]\nb = [3, 4]\nt = (a, b)\nprint(t)\nprint(hex(id(t)))",
   "metadata": {
    "tags": [],
    "cell_id": "00029-70b64f97-7387-4fbe-acb3-c5de0c34495b",
    "deepnote_to_be_reexecuted": false,
    "source_hash": "723cd5fa",
    "execution_start": 1620454133723,
    "execution_millis": 10,
    "deepnote_cell_type": "code"
   },
   "outputs": [
    {
     "name": "stdout",
     "text": "([1, 2], [3, 4])\n0x7fa5a11286e0\n",
     "output_type": "stream"
    }
   ],
   "execution_count": 58
  },
  {
   "cell_type": "code",
   "source": "a.append(3)\nb.append(5)\nprint(t)\nprint(hex(id(t)))",
   "metadata": {
    "tags": [],
    "cell_id": "00030-5413ff27-6794-4022-a1ff-34aae8e11cf5",
    "deepnote_to_be_reexecuted": false,
    "source_hash": "2850b80d",
    "execution_start": 1620454171424,
    "execution_millis": 7,
    "deepnote_cell_type": "code"
   },
   "outputs": [
    {
     "name": "stdout",
     "text": "([1, 2, 3, 3], [3, 4, 5, 5])\n0x7fa5a11286e0\n",
     "output_type": "stream"
    }
   ],
   "execution_count": 60
  },
  {
   "cell_type": "markdown",
   "source": "## Function arguments & Mutability",
   "metadata": {
    "tags": [],
    "cell_id": "00031-fa926969-93ad-4fc4-b462-92c3bce70ace",
    "deepnote_cell_type": "markdown"
   }
  },
  {
   "cell_type": "code",
   "source": "## Immutable example\ndef process(s): \n    print(f'initial s = {hex(id(s))}')\n    s = s + 'world'\n    print(f'final s = {hex(id(s))}')\n\nmy_var = 'hello'\nprint(f'my_var = {hex(id(my_var))}')\n\nprocess(my_var)\nprint(f'my_var = {hex(id(my_var))}')",
   "metadata": {
    "tags": [],
    "cell_id": "00032-81a96664-5f8c-4738-aca1-e1683d6301ef",
    "deepnote_to_be_reexecuted": false,
    "source_hash": "ead335f5",
    "execution_start": 1620454798410,
    "execution_millis": 6,
    "deepnote_cell_type": "code"
   },
   "outputs": [
    {
     "name": "stdout",
     "text": "my_var = 0x7fa5a0b8a0b0\ninitial s = 0x7fa5a0b8a0b0\nfinal s = 0x7fa5a0ba06b0\nmy_var = 0x7fa5a0b8a0b0\n",
     "output_type": "stream"
    }
   ],
   "execution_count": 66
  },
  {
   "cell_type": "code",
   "source": "## Immutable example\ndef modify_list(items): \n    print(f'initial items = {hex(id(items))}')\n    if len(items) > 0: \n        items[0] = items[0]**2\n    items.pop()\n    items.append(5)\n    print(f'final items = {hex(id(items))}')\n\nmy_list = [1,2,3]\nprint(f'my_list = {hex(id(my_list))}')\n\nmodify_list(my_list)\nprint(f'my_list = {hex(id(my_list))}')",
   "metadata": {
    "tags": [],
    "cell_id": "00033-a0f4d7c1-db89-4e89-934d-ffcf7012a746",
    "deepnote_to_be_reexecuted": false,
    "source_hash": "78927886",
    "execution_start": 1620454996301,
    "execution_millis": 13,
    "deepnote_cell_type": "code"
   },
   "outputs": [
    {
     "name": "stdout",
     "text": "my_list = 0x7fa5a05bb5a0\ninitial items = 0x7fa5a05bb5a0\nfinal items = 0x7fa5a05bb5a0\nmy_list = 0x7fa5a05bb5a0\n",
     "output_type": "stream"
    }
   ],
   "execution_count": 68
  },
  {
   "cell_type": "markdown",
   "source": "## Shared References & Mutability",
   "metadata": {
    "tags": [],
    "cell_id": "00034-1f38dfa5-51b1-4dcf-8d1b-fc7407d209f1",
    "deepnote_cell_type": "markdown"
   }
  },
  {
   "cell_type": "code",
   "source": "my_list_1 = [1, 2, 3]\nmy_list_2 = my_list_1\n\nmy_list_1, my_list_2",
   "metadata": {
    "tags": [],
    "cell_id": "00035-f8e4a00d-05ca-4874-8af4-dad0b9945b0d",
    "deepnote_to_be_reexecuted": false,
    "source_hash": "765f0815",
    "execution_start": 1620455316665,
    "execution_millis": 8,
    "deepnote_cell_type": "code"
   },
   "outputs": [
    {
     "output_type": "execute_result",
     "execution_count": 69,
     "data": {
      "text/plain": "([1, 2, 3], [1, 2, 3])"
     },
     "metadata": {}
    }
   ],
   "execution_count": 69
  },
  {
   "cell_type": "code",
   "source": "hex(id(my_list_1)), hex(id(my_list_2))\n",
   "metadata": {
    "tags": [],
    "cell_id": "00036-d6f1e072-00f6-443a-b744-378290e98ff4",
    "deepnote_to_be_reexecuted": false,
    "source_hash": "2de4e686",
    "execution_start": 1620455362523,
    "execution_millis": 7,
    "deepnote_cell_type": "code"
   },
   "outputs": [
    {
     "output_type": "execute_result",
     "execution_count": 71,
     "data": {
      "text/plain": "('0x7fa5a0376190', '0x7fa5a0376190')"
     },
     "metadata": {}
    }
   ],
   "execution_count": 71
  },
  {
   "cell_type": "markdown",
   "source": "## Variant Equality",
   "metadata": {
    "tags": [],
    "cell_id": "00037-5c00754f-9b68-42da-aae2-993695205f85",
    "deepnote_cell_type": "markdown"
   }
  },
  {
   "cell_type": "code",
   "source": "a = 10\nb = 10 \nhex(id(a)), hex(id(b))",
   "metadata": {
    "tags": [],
    "cell_id": "00038-a27245bd-3ed1-4442-8f02-bf20b3bf7539",
    "deepnote_to_be_reexecuted": false,
    "source_hash": "1c8a5224",
    "execution_start": 1620455421097,
    "execution_millis": 6,
    "deepnote_cell_type": "code"
   },
   "outputs": [
    {
     "output_type": "execute_result",
     "execution_count": 72,
     "data": {
      "text/plain": "('0x7fa5d744e560', '0x7fa5d744e560')"
     },
     "metadata": {}
    }
   ],
   "execution_count": 72
  },
  {
   "cell_type": "code",
   "source": "a is b",
   "metadata": {
    "tags": [],
    "cell_id": "00039-5210fcc6-c119-4c09-80bf-e4acf2d8eea6",
    "deepnote_to_be_reexecuted": false,
    "source_hash": "87d77659",
    "execution_start": 1620455425946,
    "execution_millis": 7,
    "deepnote_cell_type": "code"
   },
   "outputs": [
    {
     "output_type": "execute_result",
     "execution_count": 73,
     "data": {
      "text/plain": "True"
     },
     "metadata": {}
    }
   ],
   "execution_count": 73
  },
  {
   "cell_type": "code",
   "source": "a == b",
   "metadata": {
    "tags": [],
    "cell_id": "00040-7a527ffe-0833-4f7b-9aec-743622be4adc",
    "deepnote_to_be_reexecuted": false,
    "source_hash": "6afc1c34",
    "execution_start": 1620455429657,
    "execution_millis": 7,
    "deepnote_cell_type": "code"
   },
   "outputs": [
    {
     "output_type": "execute_result",
     "execution_count": 74,
     "data": {
      "text/plain": "True"
     },
     "metadata": {}
    }
   ],
   "execution_count": 74
  },
  {
   "cell_type": "code",
   "source": "my_list_1 = [1, 2, 3]\nmy_list_2 = [1, 2, 3]",
   "metadata": {
    "tags": [],
    "cell_id": "00041-be5c5f3d-b749-4f61-9c17-52cfe8808e52",
    "deepnote_to_be_reexecuted": false,
    "source_hash": "b10a25fb",
    "execution_start": 1620455483776,
    "execution_millis": 2,
    "deepnote_cell_type": "code"
   },
   "outputs": [],
   "execution_count": 75
  },
  {
   "cell_type": "code",
   "source": "my_list_1 == my_list_2",
   "metadata": {
    "tags": [],
    "cell_id": "00042-10caf8e3-cd69-4948-88c7-d1e9dc01443c",
    "deepnote_to_be_reexecuted": false,
    "source_hash": "1082e211",
    "execution_start": 1620455490906,
    "execution_millis": 9,
    "deepnote_cell_type": "code"
   },
   "outputs": [
    {
     "output_type": "execute_result",
     "execution_count": 76,
     "data": {
      "text/plain": "True"
     },
     "metadata": {}
    }
   ],
   "execution_count": 76
  },
  {
   "cell_type": "code",
   "source": "my_list_1 is my_list_2",
   "metadata": {
    "tags": [],
    "cell_id": "00043-713e21d8-8fd0-4bb0-a122-ae420c3c87fa",
    "deepnote_to_be_reexecuted": false,
    "source_hash": "32d8d8ff",
    "execution_start": 1620455506049,
    "execution_millis": 5,
    "deepnote_cell_type": "code"
   },
   "outputs": [
    {
     "output_type": "execute_result",
     "execution_count": 77,
     "data": {
      "text/plain": "False"
     },
     "metadata": {}
    }
   ],
   "execution_count": 77
  },
  {
   "cell_type": "markdown",
   "source": "**Python will attempt to compare the values as best as possible.**",
   "metadata": {
    "tags": [],
    "cell_id": "00044-cfe983d6-0887-4e18-ac43-67a899315891",
    "deepnote_cell_type": "markdown"
   }
  },
  {
   "cell_type": "code",
   "source": "a = 10 \nb = 10.0 \n\na == b",
   "metadata": {
    "tags": [],
    "cell_id": "00044-0d512a2e-4107-4fb5-827b-af5fe30aaa65",
    "deepnote_to_be_reexecuted": false,
    "source_hash": "c32593c3",
    "execution_start": 1620455533927,
    "execution_millis": 8,
    "deepnote_cell_type": "code"
   },
   "outputs": [
    {
     "output_type": "execute_result",
     "execution_count": 78,
     "data": {
      "text/plain": "True"
     },
     "metadata": {}
    }
   ],
   "execution_count": 78
  },
  {
   "cell_type": "code",
   "source": "a = 10 \nb = \"10\"\n\na == b",
   "metadata": {
    "tags": [],
    "cell_id": "00046-334ca136-e591-42c9-b105-9ae085beb61d",
    "deepnote_to_be_reexecuted": false,
    "source_hash": "23fef5b1",
    "execution_start": 1620455625297,
    "execution_millis": 9,
    "deepnote_cell_type": "code"
   },
   "outputs": [
    {
     "output_type": "execute_result",
     "execution_count": 80,
     "data": {
      "text/plain": "False"
     },
     "metadata": {}
    }
   ],
   "execution_count": 80
  },
  {
   "cell_type": "code",
   "source": "a = 10 \nb = 10 + 0j \n\na == b, type(a), type(b)",
   "metadata": {
    "tags": [],
    "cell_id": "00047-9ecfd5dc-b1c8-41ad-8486-c842c2429cf2",
    "deepnote_to_be_reexecuted": false,
    "source_hash": "a1eef6ab",
    "execution_start": 1620455673545,
    "execution_millis": 11,
    "deepnote_cell_type": "code"
   },
   "outputs": [
    {
     "output_type": "execute_result",
     "execution_count": 81,
     "data": {
      "text/plain": "(True, int, complex)"
     },
     "metadata": {}
    }
   ],
   "execution_count": 81
  },
  {
   "cell_type": "code",
   "source": "type(None)\nhex(id(None))",
   "metadata": {
    "tags": [],
    "cell_id": "00048-9938007e-1c13-485a-8412-5cbf266751bb",
    "deepnote_to_be_reexecuted": false,
    "source_hash": "18d8c402",
    "execution_start": 1620456017806,
    "execution_millis": 10,
    "deepnote_cell_type": "code"
   },
   "outputs": [
    {
     "output_type": "execute_result",
     "execution_count": 83,
     "data": {
      "text/plain": "'0x7fa5d73fe6f0'"
     },
     "metadata": {}
    }
   ],
   "execution_count": 83
  },
  {
   "cell_type": "code",
   "source": "l = [] \ntype(l)",
   "metadata": {
    "tags": [],
    "cell_id": "00049-9a62c61d-0ab8-4609-989c-d1ee5ebf06aa",
    "deepnote_to_be_reexecuted": false,
    "source_hash": "3bc0d9b0",
    "execution_start": 1620456108934,
    "execution_millis": 7,
    "deepnote_cell_type": "code"
   },
   "outputs": [
    {
     "output_type": "execute_result",
     "execution_count": 84,
     "data": {
      "text/plain": "list"
     },
     "metadata": {}
    }
   ],
   "execution_count": 84
  },
  {
   "cell_type": "code",
   "source": "l is None",
   "metadata": {
    "tags": [],
    "cell_id": "00050-827be364-2903-474d-abcb-d3477826e34a",
    "deepnote_to_be_reexecuted": false,
    "source_hash": "3b7eb2be",
    "execution_start": 1620456115316,
    "execution_millis": 6,
    "deepnote_cell_type": "code"
   },
   "outputs": [
    {
     "output_type": "execute_result",
     "execution_count": 85,
     "data": {
      "text/plain": "False"
     },
     "metadata": {}
    }
   ],
   "execution_count": 85
  },
  {
   "cell_type": "code",
   "source": "## Empty object is not a non object \nl == None",
   "metadata": {
    "tags": [],
    "cell_id": "00051-2657a890-cdbf-4f09-b0ff-d80eaba88e40",
    "deepnote_to_be_reexecuted": false,
    "source_hash": "31580df9",
    "execution_start": 1620456121380,
    "execution_millis": 11,
    "deepnote_cell_type": "code"
   },
   "outputs": [
    {
     "output_type": "execute_result",
     "execution_count": 86,
     "data": {
      "text/plain": "False"
     },
     "metadata": {}
    }
   ],
   "execution_count": 86
  },
  {
   "cell_type": "code",
   "source": "l = [] \nprint(not l)",
   "metadata": {
    "tags": [],
    "cell_id": "00052-f0be08f1-ef62-401e-b047-e5b23f68c78f",
    "deepnote_to_be_reexecuted": false,
    "source_hash": "2b92ff39",
    "execution_start": 1620456245674,
    "execution_millis": 6,
    "deepnote_cell_type": "code"
   },
   "outputs": [
    {
     "name": "stdout",
     "text": "True\n",
     "output_type": "stream"
    }
   ],
   "execution_count": 92
  },
  {
   "cell_type": "code",
   "source": "## Everything in Python is an Object",
   "metadata": {
    "tags": [],
    "cell_id": "00053-169b1da4-5e80-4789-9f81-9c096f13a781",
    "deepnote_cell_type": "code"
   },
   "outputs": [],
   "execution_count": null
  },
  {
   "cell_type": "code",
   "source": "help(int)",
   "metadata": {
    "tags": [],
    "cell_id": "00054-941c85ab-4a1a-4f3c-84bd-0896fa058bd0",
    "deepnote_to_be_reexecuted": false,
    "source_hash": "7d5ae212",
    "execution_start": 1620456465941,
    "execution_millis": 10,
    "deepnote_cell_type": "code"
   },
   "outputs": [
    {
     "name": "stdout",
     "text": "Help on class int in module builtins:\n\nclass int(object)\n |  int([x]) -> integer\n |  int(x, base=10) -> integer\n |  \n |  Convert a number or string to an integer, or return 0 if no arguments\n |  are given.  If x is a number, return x.__int__().  For floating point\n |  numbers, this truncates towards zero.\n |  \n |  If x is not a number or if base is given, then x must be a string,\n |  bytes, or bytearray instance representing an integer literal in the\n |  given base.  The literal can be preceded by '+' or '-' and be surrounded\n |  by whitespace.  The base defaults to 10.  Valid bases are 0 and 2-36.\n |  Base 0 means to interpret the base from the string as an integer literal.\n |  >>> int('0b100', base=0)\n |  4\n |  \n |  Methods defined here:\n |  \n |  __abs__(self, /)\n |      abs(self)\n |  \n |  __add__(self, value, /)\n |      Return self+value.\n |  \n |  __and__(self, value, /)\n |      Return self&value.\n |  \n |  __bool__(self, /)\n |      self != 0\n |  \n |  __ceil__(...)\n |      Ceiling of an Integral returns itself.\n |  \n |  __divmod__(self, value, /)\n |      Return divmod(self, value).\n |  \n |  __eq__(self, value, /)\n |      Return self==value.\n |  \n |  __float__(self, /)\n |      float(self)\n |  \n |  __floor__(...)\n |      Flooring an Integral returns itself.\n |  \n |  __floordiv__(self, value, /)\n |      Return self//value.\n |  \n |  __format__(self, format_spec, /)\n |      Default object formatter.\n |  \n |  __ge__(self, value, /)\n |      Return self>=value.\n |  \n |  __getattribute__(self, name, /)\n |      Return getattr(self, name).\n |  \n |  __getnewargs__(self, /)\n |  \n |  __gt__(self, value, /)\n |      Return self>value.\n |  \n |  __hash__(self, /)\n |      Return hash(self).\n |  \n |  __index__(self, /)\n |      Return self converted to an integer, if self is suitable for use as an index into a list.\n |  \n |  __int__(self, /)\n |      int(self)\n |  \n |  __invert__(self, /)\n |      ~self\n |  \n |  __le__(self, value, /)\n |      Return self<=value.\n |  \n |  __lshift__(self, value, /)\n |      Return self<<value.\n |  \n |  __lt__(self, value, /)\n |      Return self<value.\n |  \n |  __mod__(self, value, /)\n |      Return self%value.\n |  \n |  __mul__(self, value, /)\n |      Return self*value.\n |  \n |  __ne__(self, value, /)\n |      Return self!=value.\n |  \n |  __neg__(self, /)\n |      -self\n |  \n |  __or__(self, value, /)\n |      Return self|value.\n |  \n |  __pos__(self, /)\n |      +self\n |  \n |  __pow__(self, value, mod=None, /)\n |      Return pow(self, value, mod).\n |  \n |  __radd__(self, value, /)\n |      Return value+self.\n |  \n |  __rand__(self, value, /)\n |      Return value&self.\n |  \n |  __rdivmod__(self, value, /)\n |      Return divmod(value, self).\n |  \n |  __repr__(self, /)\n |      Return repr(self).\n |  \n |  __rfloordiv__(self, value, /)\n |      Return value//self.\n |  \n |  __rlshift__(self, value, /)\n |      Return value<<self.\n |  \n |  __rmod__(self, value, /)\n |      Return value%self.\n |  \n |  __rmul__(self, value, /)\n |      Return value*self.\n |  \n |  __ror__(self, value, /)\n |      Return value|self.\n |  \n |  __round__(...)\n |      Rounding an Integral returns itself.\n |      Rounding with an ndigits argument also returns an integer.\n |  \n |  __rpow__(self, value, mod=None, /)\n |      Return pow(value, self, mod).\n |  \n |  __rrshift__(self, value, /)\n |      Return value>>self.\n |  \n |  __rshift__(self, value, /)\n |      Return self>>value.\n |  \n |  __rsub__(self, value, /)\n |      Return value-self.\n |  \n |  __rtruediv__(self, value, /)\n |      Return value/self.\n |  \n |  __rxor__(self, value, /)\n |      Return value^self.\n |  \n |  __sizeof__(self, /)\n |      Returns size in memory, in bytes.\n |  \n |  __str__(self, /)\n |      Return str(self).\n |  \n |  __sub__(self, value, /)\n |      Return self-value.\n |  \n |  __truediv__(self, value, /)\n |      Return self/value.\n |  \n |  __trunc__(...)\n |      Truncating an Integral returns itself.\n |  \n |  __xor__(self, value, /)\n |      Return self^value.\n |  \n |  bit_length(self, /)\n |      Number of bits necessary to represent self in binary.\n |      \n |      >>> bin(37)\n |      '0b100101'\n |      >>> (37).bit_length()\n |      6\n |  \n |  conjugate(...)\n |      Returns self, the complex conjugate of any int.\n |  \n |  to_bytes(self, /, length, byteorder, *, signed=False)\n |      Return an array of bytes representing an integer.\n |      \n |      length\n |        Length of bytes object to use.  An OverflowError is raised if the\n |        integer is not representable with the given number of bytes.\n |      byteorder\n |        The byte order used to represent the integer.  If byteorder is 'big',\n |        the most significant byte is at the beginning of the byte array.  If\n |        byteorder is 'little', the most significant byte is at the end of the\n |        byte array.  To request the native byte order of the host system, use\n |        `sys.byteorder' as the byte order value.\n |      signed\n |        Determines whether two's complement is used to represent the integer.\n |        If signed is False and a negative integer is given, an OverflowError\n |        is raised.\n |  \n |  ----------------------------------------------------------------------\n |  Class methods defined here:\n |  \n |  from_bytes(bytes, byteorder, *, signed=False) from builtins.type\n |      Return the integer represented by the given array of bytes.\n |      \n |      bytes\n |        Holds the array of bytes to convert.  The argument must either\n |        support the buffer protocol or be an iterable object producing bytes.\n |        Bytes and bytearray are examples of built-in objects that support the\n |        buffer protocol.\n |      byteorder\n |        The byte order used to represent the integer.  If byteorder is 'big',\n |        the most significant byte is at the beginning of the byte array.  If\n |        byteorder is 'little', the most significant byte is at the end of the\n |        byte array.  To request the native byte order of the host system, use\n |        `sys.byteorder' as the byte order value.\n |      signed\n |        Indicates whether two's complement is used to represent the integer.\n |  \n |  ----------------------------------------------------------------------\n |  Static methods defined here:\n |  \n |  __new__(*args, **kwargs) from builtins.type\n |      Create and return a new object.  See help(type) for accurate signature.\n |  \n |  ----------------------------------------------------------------------\n |  Data descriptors defined here:\n |  \n |  denominator\n |      the denominator of a rational number in lowest terms\n |  \n |  imag\n |      the imaginary part of a complex number\n |  \n |  numerator\n |      the numerator of a rational number in lowest terms\n |  \n |  real\n |      the real part of a complex number\n\n",
     "output_type": "stream"
    }
   ],
   "execution_count": 93
  },
  {
   "cell_type": "code",
   "source": "b = int('10', base=2)\nb, type(b)",
   "metadata": {
    "tags": [],
    "cell_id": "00055-8a6f04f2-8d36-4120-b2c8-d5567cce2e59",
    "deepnote_to_be_reexecuted": false,
    "source_hash": "60d1ca13",
    "execution_start": 1620456578570,
    "execution_millis": 10,
    "deepnote_cell_type": "code"
   },
   "outputs": [
    {
     "output_type": "execute_result",
     "execution_count": 94,
     "data": {
      "text/plain": "(2, int)"
     },
     "metadata": {}
    }
   ],
   "execution_count": 94
  },
  {
   "cell_type": "code",
   "source": "def square(a): \n    return a**2 \n\ntype(square)",
   "metadata": {
    "tags": [],
    "cell_id": "00056-a24e9098-ed6f-4451-98db-80c999af4e47",
    "deepnote_to_be_reexecuted": false,
    "source_hash": "2bac04af",
    "execution_start": 1620456687309,
    "execution_millis": 8,
    "deepnote_cell_type": "code"
   },
   "outputs": [
    {
     "output_type": "execute_result",
     "execution_count": 95,
     "data": {
      "text/plain": "function"
     },
     "metadata": {}
    }
   ],
   "execution_count": 95
  },
  {
   "cell_type": "code",
   "source": "f = square\ntype(f)\n\nhex(id(f))",
   "metadata": {
    "tags": [],
    "cell_id": "00057-dc29acbc-c62d-42d6-8ba2-166111e218df",
    "deepnote_to_be_reexecuted": false,
    "source_hash": "95d41a2f",
    "execution_start": 1620456763491,
    "execution_millis": 8,
    "deepnote_cell_type": "code"
   },
   "outputs": [
    {
     "output_type": "execute_result",
     "execution_count": 97,
     "data": {
      "text/plain": "'0x7fa59f703c20'"
     },
     "metadata": {}
    }
   ],
   "execution_count": 97
  },
  {
   "cell_type": "code",
   "source": "a = 10 \nsys.getsizeof(a)",
   "metadata": {
    "tags": [],
    "cell_id": "00058-0990cf1d-b042-4888-894d-23ee3f158ff1",
    "deepnote_to_be_reexecuted": false,
    "source_hash": "f6591661",
    "execution_start": 1620456914829,
    "execution_millis": 7,
    "deepnote_cell_type": "code"
   },
   "outputs": [
    {
     "output_type": "execute_result",
     "execution_count": 98,
     "data": {
      "text/plain": "28"
     },
     "metadata": {}
    }
   ],
   "execution_count": 98
  },
  {
   "cell_type": "code",
   "source": "b = 12\nsys.getsizeof(b)",
   "metadata": {
    "tags": [],
    "cell_id": "00059-094407db-9700-4f43-8dfd-0c5bb286618d",
    "deepnote_to_be_reexecuted": false,
    "source_hash": "9d3056a5",
    "execution_start": 1620456926332,
    "execution_millis": 10,
    "deepnote_cell_type": "code"
   },
   "outputs": [
    {
     "output_type": "execute_result",
     "execution_count": 99,
     "data": {
      "text/plain": "28"
     },
     "metadata": {}
    }
   ],
   "execution_count": 99
  },
  {
   "cell_type": "code",
   "source": "def sqare(a):\n    return a ** 2\n\ndef cube(a): \n    return a ** 3 \n\ndef select_function(fn_id): \n    if fn_id == 1: \n        return square\n    else:\n        return cube \n\nselect_function(2)(3)",
   "metadata": {
    "tags": [],
    "cell_id": "00060-39c4cd7d-6389-4877-8ca5-9144274e661f",
    "deepnote_to_be_reexecuted": false,
    "source_hash": "a8400c2b",
    "execution_start": 1620457081573,
    "execution_millis": 7,
    "deepnote_cell_type": "code"
   },
   "outputs": [
    {
     "output_type": "execute_result",
     "execution_count": 105,
     "data": {
      "text/plain": "27"
     },
     "metadata": {}
    }
   ],
   "execution_count": 105
  },
  {
   "cell_type": "code",
   "source": "def exec_function(fn, n): \n    return fn(n)\n\nexec_function(lambda n: n ** 2, 4)",
   "metadata": {
    "tags": [],
    "cell_id": "00061-bf493451-528a-4758-a201-c15fd7ee5e58",
    "deepnote_to_be_reexecuted": false,
    "source_hash": "266c2125",
    "execution_start": 1620457178178,
    "execution_millis": 5,
    "deepnote_cell_type": "code"
   },
   "outputs": [
    {
     "output_type": "execute_result",
     "execution_count": 108,
     "data": {
      "text/plain": "16"
     },
     "metadata": {}
    }
   ],
   "execution_count": 108
  },
  {
   "cell_type": "code",
   "source": "lam = lambda n: n ** 2\ntype(lam)",
   "metadata": {
    "tags": [],
    "cell_id": "00062-69ac5d9e-952b-442d-8493-07d5af8592c5",
    "deepnote_to_be_reexecuted": false,
    "source_hash": "f38d4749",
    "execution_start": 1620457215878,
    "execution_millis": 9,
    "deepnote_cell_type": "code"
   },
   "outputs": [
    {
     "output_type": "execute_result",
     "execution_count": 111,
     "data": {
      "text/plain": "function"
     },
     "metadata": {}
    }
   ],
   "execution_count": 111
  },
  {
   "cell_type": "markdown",
   "source": "<a style='text-decoration:none;line-height:16px;display:flex;color:#5B5B62;padding:10px;justify-content:end;' href='https://deepnote.com?utm_source=created-in-deepnote-cell&projectId=cc39e154-1f20-449f-92d5-ddbdaee4dd0e' target=\"_blank\">\n<img alt='Created in deepnote.com' style='display:inline;max-height:16px;margin:0px;margin-right:7.5px;' src='data:image/svg+xml;base64,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' > </img>\nCreated in <span style='font-weight:600;margin-left:4px;'>Deepnote</span></a>",
   "metadata": {
    "tags": [],
    "created_in_deepnote_cell": true,
    "deepnote_cell_type": "markdown"
   }
  }
 ],
 "nbformat": 4,
 "nbformat_minor": 2,
 "metadata": {
  "orig_nbformat": 2,
  "deepnote": {
   "is_reactive": false
  },
  "deepnote_notebook_id": "2a9b1250-cd43-4733-8d1d-17b854e7c5b5",
  "deepnote_execution_queue": []
 }
}